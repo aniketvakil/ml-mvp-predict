{
 "cells": [
  {
   "cell_type": "code",
   "execution_count": null,
   "metadata": {},
   "outputs": [],
   "source": [
    "# import packages\n",
    "\n",
    "%matplotlib inline\n",
    "\n",
    "import pandas as pd\n",
    "import numpy as np\n",
    "import matplotlib.pyplot as plt\n",
    "from sklearn.linear_model import LogisticRegression\n",
    "from sklearn.discriminant_analysis import LinearDiscriminantAnalysis\n",
    "import sklearn.metrics as metrics\n",
    "from operator import itemgetter"
   ]
  },
  {
   "cell_type": "code",
   "execution_count": null,
   "metadata": {},
   "outputs": [],
   "source": [
    "# set random state\n",
    "\n",
    "np.random.seed(0)"
   ]
  },
  {
   "cell_type": "code",
   "execution_count": null,
   "metadata": {},
   "outputs": [],
   "source": [
    "# load data set and convert raw all-star votes into yearly all-star vote ranke (we do this because votes increase over time)\n",
    "\n",
    "df_hist = pd.read_csv('historical-data.csv')\n",
    "df_hist['all_star_votes'] = df_hist.groupby('season_start')['all_star_votes'].rank(ascending = False, method = 'dense')"
   ]
  },
  {
   "cell_type": "markdown",
   "metadata": {},
   "source": [
    "# Visualize data"
   ]
  },
  {
   "cell_type": "code",
   "execution_count": null,
   "metadata": {},
   "outputs": [],
   "source": [
    "# plot of overall seed and pre-season title odds rank\n",
    "\n",
    "plt.style.use('fivethirtyeight')\n",
    "\n",
    "exp_seed, ax = plt.subplots()\n",
    "\n",
    "mvp = df_hist[df_hist['won_mvp'] == 1]\n",
    "non_mvp = df_hist[df_hist['won_mvp'] != 1]\n",
    "\n",
    "ax.scatter(mvp['overall_seed'], mvp['preseason_odds_rank'], label = \"MVP winners\", marker = '^', s = 100)\n",
    "ax.scatter(non_mvp['overall_seed'], non_mvp['preseason_odds_rank'], label = \"The rest\", alpha = .2)\n",
    "\n",
    "ax.legend(loc='best', prop={'size': 9, \"family\": \"Rockwell\"})\n",
    "\n",
    "ax.set_xlabel('Overall seed')\n",
    "ax.set_ylabel('Pre-season title odds')\n",
    "\n",
    "ax.set_xlim(ax.get_xlim()[::-1])\n",
    "ax.set_ylim(ax.get_ylim()[::-1])\n",
    "\n",
    "exp_seed.suptitle(\"Wins and the MVP\", weight = 'bold', size = 18)\n",
    "\n",
    "exp_seed.text(x = -0.02, y = -0.08,\n",
    "    s = '____________________________________________________________',\n",
    "    fontsize = 14, color = 'grey', horizontalalignment='left', alpha = .3)\n",
    "\n",
    "exp_seed.text(x = -0.02, y = -.14,\n",
    "    s = 'https://dribbleanalytics.blog                     ',\n",
    "    fontsize = 14, fontname = 'Rockwell', color = 'grey', horizontalalignment='left')\n",
    "\n",
    "exp_seed.savefig('exp_seed.png', dpi = 400, bbox_inches = 'tight')"
   ]
  },
  {
   "cell_type": "code",
   "execution_count": null,
   "metadata": {},
   "outputs": [],
   "source": [
    "# find 2 players who won with an overall seed below 5\n",
    "\n",
    "df_hist[(df_hist['won_mvp'] == 1) & (df_hist['overall_seed'] > 5)]"
   ]
  },
  {
   "cell_type": "code",
   "execution_count": null,
   "metadata": {},
   "outputs": [],
   "source": [
    "# plot difference between pre-season title odds and overall seed vs. all-star vote rank\n",
    "\n",
    "plt.style.use('fivethirtyeight')\n",
    "\n",
    "exp_diff_pop, ax = plt.subplots()\n",
    "\n",
    "ax.scatter(mvp['preseason_odds_rank'] - mvp['overall_seed'], mvp['all_star_votes'],\n",
    "           label = \"MVP winners\", marker = '^', s = 100)\n",
    "ax.scatter(non_mvp['preseason_odds_rank'] - non_mvp['overall_seed'], non_mvp['all_star_votes'],\n",
    "           label = \"The rest\", alpha = .2)\n",
    "\n",
    "ax.legend(loc='best', prop={'size': 9, \"family\": \"Rockwell\"})\n",
    "\n",
    "ax.set_xlabel('Seed - pre-season title odds rank')\n",
    "ax.set_ylabel('Yearly All-Star vote rank')\n",
    "\n",
    "ax.set_ylim(ax.get_ylim()[::-1])\n",
    "\n",
    "exp_diff_pop.suptitle(\"Wins, popularity and the MVP\", weight = 'bold', size = 18)\n",
    "\n",
    "exp_diff_pop.text(x = -0.02, y = -0.08,\n",
    "    s = '____________________________________________________________',\n",
    "    fontsize = 14, color = 'grey', horizontalalignment='left', alpha = .3)\n",
    "\n",
    "exp_diff_pop.text(x = -0.02, y = -.14,\n",
    "    s = 'https://dribbleanalytics.blog                     ',\n",
    "    fontsize = 14, fontname = 'Rockwell', color = 'grey', horizontalalignment='left')\n",
    "\n",
    "exp_diff_pop.savefig('exp_diff_pop.png', dpi = 400, bbox_inches = 'tight')"
   ]
  },
  {
   "cell_type": "code",
   "execution_count": null,
   "metadata": {},
   "outputs": [],
   "source": [
    "# find the 3 players who won mvp while ranking lower than 5 in yearly all-star votes\n",
    "\n",
    "df_hist[(df_hist['won_mvp'] == 1) & (df_hist['all_star_votes'] > 5)]"
   ]
  },
  {
   "cell_type": "code",
   "execution_count": null,
   "metadata": {},
   "outputs": [],
   "source": [
    "# find the 5 players who won mvp while underperforming their pre-season odds\n",
    "\n",
    "df_hist[(df_hist['won_mvp'] == 1) & (df_hist['preseason_odds_rank'] - df_hist['overall_seed'] < 0)]"
   ]
  },
  {
   "cell_type": "markdown",
   "metadata": {},
   "source": [
    "# Create MVP models"
   ]
  },
  {
   "cell_type": "code",
   "execution_count": null,
   "metadata": {},
   "outputs": [],
   "source": [
    "features = ['age', 'pos_number', 'all_star_votes', 'g',\n",
    "       'team_wins', 'overall_seed', 'preseason_odds_rank', 'mp', 'fgm',\n",
    "       'fga', 'fg_perc', '3pm', '3pa', '3p_perc', '2pm', '2pa', '2p_perc',\n",
    "       'efg', 'ftm', 'fta', 'ft_perc', 'orb', 'drb', 'trb', 'ast', 'stl',\n",
    "       'blk', 'tov', 'pf', 'pts', 'per', 'ts', '3par', 'ftr', 'orb_perc',\n",
    "       'drb_perc', 'trb_perc', 'ast_perc', 'stl_perc', 'blk_perc',\n",
    "       'tov_perv', 'usg_perc', 'ws', 'ws_per_48', 'vorp', 'bpm',\n",
    "       'offensive_raptor', 'defensive_raptor']\n",
    "\n",
    "output = ['won_mvp']"
   ]
  },
  {
   "cell_type": "code",
   "execution_count": null,
   "metadata": {},
   "outputs": [],
   "source": [
    "log = LogisticRegression(solver = 'liblinear')\n",
    "lda = LinearDiscriminantAnalysis()"
   ]
  },
  {
   "cell_type": "code",
   "execution_count": null,
   "metadata": {},
   "outputs": [],
   "source": [
    "# function to fit a model and return its predicted probability for a given data set\n",
    "\n",
    "def fit_pred_proba(model, x, y, pred):\n",
    "    \n",
    "    model.fit(x, y)\n",
    "    return model.predict_proba(pred)[:, 1]"
   ]
  },
  {
   "cell_type": "code",
   "execution_count": null,
   "metadata": {},
   "outputs": [],
   "source": [
    "# loop to select one year as the testing set, train the models on the remaining years, and return the model predictions for the\n",
    "# given year\n",
    "\n",
    "pred_df = []\n",
    "\n",
    "for season in range(1984, 2019):\n",
    "    df_pred = df_hist[df_hist['season_start'] == season]\n",
    "    df_train = df_hist[df_hist['season_start'] != season]\n",
    "    \n",
    "    x = df_train[features]\n",
    "    y = df_train[output].values.ravel()\n",
    "    pred = df_pred[features]\n",
    "    \n",
    "    pred_log = fit_pred_proba(log, x, y, pred)\n",
    "    pred_lda = fit_pred_proba(lda, x, y, pred)\n",
    "    \n",
    "    df_curr = df_pred.copy()\n",
    "    df_curr['mvp_pred'] = (pred_log + pred_lda) / (2)\n",
    "    \n",
    "    pred_df.append(df_curr)"
   ]
  },
  {
   "cell_type": "code",
   "execution_count": null,
   "metadata": {},
   "outputs": [],
   "source": [
    "pred_mvp = pd.concat(pred_df)\n",
    "\n",
    "pred_mvp = pred_mvp[['rank', 'won_mvp', 'player', 'season_start', 'mvp_pred']]\n",
    "\n",
    "pred_mvp['mvp_pred_rank'] = pred_mvp.groupby('season_start')['mvp_pred'].rank(ascending = False, method = 'dense')"
   ]
  },
  {
   "cell_type": "code",
   "execution_count": null,
   "metadata": {},
   "outputs": [],
   "source": [
    "# evaluate accuracy (what percent of players that our model predicted would win/come top-3/top-5 actually did)\n",
    "\n",
    "len(pred_mvp[(pred_mvp['won_mvp'] == 1) & (pred_mvp['mvp_pred_rank'] == 1)]) / len(pred_mvp[pred_mvp['won_mvp'] == 1])"
   ]
  },
  {
   "cell_type": "code",
   "execution_count": null,
   "metadata": {},
   "outputs": [],
   "source": [
    "len(pred_mvp[(pred_mvp['rank'] <= 3) & (pred_mvp['mvp_pred_rank'] <= 3)]) / len(pred_mvp[pred_mvp['rank'] <= 3])"
   ]
  },
  {
   "cell_type": "code",
   "execution_count": null,
   "metadata": {},
   "outputs": [],
   "source": [
    "len(pred_mvp[(pred_mvp['rank'] <= 5) & (pred_mvp['mvp_pred_rank'] <= 5)]) / len(pred_mvp[pred_mvp['rank'] <= 5])"
   ]
  },
  {
   "cell_type": "code",
   "execution_count": null,
   "metadata": {},
   "outputs": [],
   "source": [
    "# find the model's incorrect predictions\n",
    "\n",
    "pred_mvp[(pred_mvp['won_mvp'] == 1) & (pred_mvp['mvp_pred_rank'] != 1)]"
   ]
  },
  {
   "cell_type": "code",
   "execution_count": null,
   "metadata": {},
   "outputs": [],
   "source": [
    "# convert rank to classes; player with the highest probability in a given year earns a 1, while the rest of the players earn a 0\n",
    "\n",
    "pred_mvp['pred_winner'] = pred_mvp['mvp_pred_rank']\n",
    "pred_mvp['pred_winner'].loc[pred_mvp['pred_winner'] != 1] = 0"
   ]
  },
  {
   "cell_type": "code",
   "execution_count": null,
   "metadata": {},
   "outputs": [],
   "source": [
    "pred_mvp[(pred_mvp['won_mvp'] != 1) & (pred_mvp['pred_winner'] == 1)]"
   ]
  },
  {
   "cell_type": "code",
   "execution_count": null,
   "metadata": {},
   "outputs": [],
   "source": [
    "# calculate model accuracy metrics\n",
    "\n",
    "ytest = pred_mvp['won_mvp']\n",
    "y_pred = pred_mvp['pred_winner']\n",
    "\n",
    "print(\"Accuracy score: %.3f\" % metrics.accuracy_score(ytest, y_pred))\n",
    "print(\"Recall: %.3f\" % metrics.recall_score(ytest, y_pred))\n",
    "print(\"Precision: %.3f\" % metrics.precision_score(ytest, y_pred))\n",
    "print(\"F1: %.3f\" % metrics.f1_score(ytest, y_pred))\n",
    "    \n",
    "proba_list = []\n",
    "\n",
    "for i in pred_mvp['mvp_pred'].values:\n",
    "    proba_list.append([1 - i, i])\n",
    "    \n",
    "proba_list = np.array(proba_list)\n",
    "\n",
    "print(\"Log loss: %.3f\" % metrics.log_loss(ytest, proba_list))\n",
    "    \n",
    "pos_prob = pred_mvp['mvp_pred'].values\n",
    "print(\"Breir score: %.3f\" % metrics.brier_score_loss(ytest, pos_prob))\n",
    "    \n",
    "print(\"Area under ROC curve: %.3f\" % metrics.roc_auc_score(ytest, pos_prob))"
   ]
  },
  {
   "cell_type": "code",
   "execution_count": null,
   "metadata": {},
   "outputs": [],
   "source": [
    "# plot roc curve and calculate auc-roc\n",
    "\n",
    "plt.style.use('fivethirtyeight')\n",
    "\n",
    "roc, ax = plt.subplots()\n",
    "\n",
    "fpr, tpr, _ = metrics.roc_curve(ytest, pos_prob)\n",
    "ax.plot(fpr, tpr)\n",
    "ax.plot([0, 1], [0, 1], linestyle = '--')\n",
    "\n",
    "ax.set_xlabel(\"False Positive Rate\")\n",
    "ax.set_ylabel(\"True Positive Rate\")\n",
    "ax.set_title(\"AUC-ROC: 0.952\", fontname = 'Rockwell', fontsize = 14)\n",
    "\n",
    "roc.suptitle(\"MVP Model ROC Curve\", weight = 'bold', y = 1.007, size = 18)\n",
    "\n",
    "roc.text(x = -0.03, y = -0.08,\n",
    "        s = '______________________________________________________________',\n",
    "        fontsize = 14, color = 'grey', horizontalalignment='left', alpha = .3)\n",
    "\n",
    "roc.text(x = -0.03, y = -.14,\n",
    "    s = 'https://dribbleanalytics.blog                     ',\n",
    "    fontsize = 14, fontname = 'Rockwell', color = 'grey', horizontalalignment='left')\n",
    "\n",
    "roc.savefig('roc.png', dpi = 400, bbox_inches = 'tight')"
   ]
  },
  {
   "cell_type": "markdown",
   "metadata": {},
   "source": [
    "# Create 2020 MVP predictions"
   ]
  },
  {
   "cell_type": "code",
   "execution_count": null,
   "metadata": {},
   "outputs": [],
   "source": [
    "# load 2019-20 data and convert all-star votes to rank\n",
    "\n",
    "df_curr = pd.read_csv('current-data.csv')\n",
    "df_curr['all_star_votes'] = df_curr.groupby('season_start')['all_star_votes'].rank(ascending = False, method = 'dense')"
   ]
  },
  {
   "cell_type": "code",
   "execution_count": null,
   "metadata": {},
   "outputs": [],
   "source": [
    "# create model predictions for new data\n",
    "\n",
    "log_pred = fit_pred_proba(log, df_hist[features], df_hist[output].values.ravel(), df_curr[features])\n",
    "lda_pred = fit_pred_proba(lda, df_hist[features], df_hist[output].values.ravel(), df_curr[features])\n",
    "\n",
    "avg_pred = (log_pred + lda_pred) / 2"
   ]
  },
  {
   "cell_type": "code",
   "execution_count": null,
   "metadata": {},
   "outputs": [],
   "source": [
    "# sort data while maintaining order of player names for graph\n",
    "\n",
    "pred_unsorted = [[i, j] for i, j in zip(avg_pred.tolist(), df_curr['label'].values.tolist())]\n",
    "pred_sorted = sorted(pred_unsorted, key = itemgetter(0), reverse = True)\n",
    "\n",
    "pred_data = [row[0] for row in pred_sorted]\n",
    "pred_labels = [row[1] for row in pred_sorted]"
   ]
  },
  {
   "cell_type": "code",
   "execution_count": null,
   "metadata": {},
   "outputs": [],
   "source": [
    "# graph mvp predictions\n",
    "\n",
    "plt.style.use('fivethirtyeight')\n",
    "\n",
    "pred, ax = plt.subplots()\n",
    "\n",
    "ax.bar(np.arange(len(pred_data)), pred_data, width = .7, edgecolor = 'white', color = 'skyblue', linewidth = 4)\n",
    "\n",
    "rects = ax.patches\n",
    "for rect, label in zip(rects, pred_labels):\n",
    "    if rect.get_x() > 2:\n",
    "        ax.text(rect.get_x() + rect.get_width() / 1.75, rect.get_height() + .02, label,\n",
    "        ha='center', va='bottom', rotation = 'vertical', color = 'black')\n",
    "    elif rect.get_x() <= 2:\n",
    "        height = .03\n",
    "        ax.text(rect.get_x() + rect.get_width() / 1.75, height, label,\n",
    "        ha='center', va='bottom', rotation = 'vertical', color = 'black')\n",
    "    \n",
    "pred.suptitle(\"Predicted MVP probability\", weight = 'bold', size = 18, y = 1.005)\n",
    "ax.set_title(\"NBA.com MVP ladder rank listed in parentheses\", size = 14, fontname = 'Rockwell')\n",
    "ax.xaxis.set_visible(False)\n",
    "ax.set_ylabel(\"MVP probability\")\n",
    "ax.set_ylim([0, 1])\n",
    "\n",
    "pred.text(x = -0.02, y = 0.03,\n",
    "    s = '_______________________________________________________________',\n",
    "    fontsize = 14, color = 'grey', horizontalalignment='left', alpha = .3)\n",
    "\n",
    "pred.text(x = -0.02, y = -.03,\n",
    "    s = 'https://dribbleanalytics.blog                     ',\n",
    "    fontsize = 14, fontname = 'Rockwell', color = 'grey', horizontalalignment='left')\n",
    "\n",
    "pred.savefig('pred.png', dpi = 400, bbox_inches = 'tight')"
   ]
  }
 ],
 "metadata": {
  "kernelspec": {
   "display_name": "Python 3",
   "language": "python",
   "name": "python3"
  },
  "language_info": {
   "codemirror_mode": {
    "name": "ipython",
    "version": 3
   },
   "file_extension": ".py",
   "mimetype": "text/x-python",
   "name": "python",
   "nbconvert_exporter": "python",
   "pygments_lexer": "ipython3",
   "version": "3.6.4"
  }
 },
 "nbformat": 4,
 "nbformat_minor": 2
}
