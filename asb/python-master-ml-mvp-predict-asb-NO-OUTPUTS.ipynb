{
 "cells": [
  {
   "cell_type": "code",
   "execution_count": null,
   "metadata": {},
   "outputs": [],
   "source": [
    "# Import necessary packages\n",
    "\n",
    "%matplotlib inline\n",
    "\n",
    "import pandas as pd\n",
    "import numpy as np\n",
    "import matplotlib.pyplot as plt\n",
    "from sklearn.model_selection import train_test_split\n",
    "from sklearn.svm import SVR\n",
    "from sklearn.ensemble import RandomForestRegressor\n",
    "from sklearn import neighbors\n",
    "from sklearn.neural_network import MLPRegressor\n",
    "from sklearn.metrics import mean_squared_error, r2_score\n",
    "from sklearn.model_selection import KFold\n",
    "from scipy.stats import norm\n",
    "from operator import itemgetter\n",
    "from sklearn.model_selection import cross_val_score"
   ]
  },
  {
   "cell_type": "code",
   "execution_count": null,
   "metadata": {},
   "outputs": [],
   "source": [
    "# Import the datasets\n",
    "\n",
    "dfHistorical = pd.read_csv('historical-mvps.csv')\n",
    "dfCurrent = pd.read_csv('current-mvp-ladder.csv')\n",
    "dfChange = pd.read_csv('predictions-change.csv')"
   ]
  },
  {
   "cell_type": "code",
   "execution_count": null,
   "metadata": {},
   "outputs": [],
   "source": [
    "# Preview the historical dataset\n",
    "\n",
    "dfHistorical.head()"
   ]
  },
  {
   "cell_type": "markdown",
   "metadata": {},
   "source": [
    "# Create models"
   ]
  },
  {
   "cell_type": "code",
   "execution_count": null,
   "metadata": {},
   "outputs": [],
   "source": [
    "train, test = train_test_split(dfHistorical, test_size = 0.25, random_state = 10)\n",
    "\n",
    "xtrain = train[['Team Wins', 'Overall Seed', 'PTS', 'TRB', 'AST', 'FG%', 'VORP', 'WS']]\n",
    "ytrain = train[['Share']]\n",
    "\n",
    "xtest = test[['Team Wins', 'Overall Seed', 'PTS', 'TRB', 'AST', 'FG%', 'VORP', 'WS']]\n",
    "ytest = test[['Share']]"
   ]
  },
  {
   "cell_type": "code",
   "execution_count": null,
   "metadata": {},
   "outputs": [],
   "source": [
    "# Create function that gives accuracy scores for each model\n",
    "\n",
    "def scores(y, model):\n",
    "    \n",
    "    model.fit(xtrain, ytrain.values.ravel())\n",
    "    y_pred = model.predict(xtest)\n",
    "    \n",
    "    print(\"Mean squared error: %.3f\" % mean_squared_error(ytest, y_pred))\n",
    "    print('R2 score: %.3f' % r2_score(ytest, y_pred))\n",
    "\n",
    "    cvScore = cross_val_score(model, xtest, ytest.values.ravel(), cv = 3, scoring = 'r2')\n",
    "    print(\"R2 cross validation score: %0.2f (+/- %0.2f)\" % (cvScore.mean(), cvScore.std() * 2))\n",
    "    \n",
    "    for i in y_pred:\n",
    "        y.append(i)"
   ]
  },
  {
   "cell_type": "code",
   "execution_count": null,
   "metadata": {},
   "outputs": [],
   "source": [
    "svr = SVR(kernel='rbf', gamma=1e-4, C=100, epsilon = .1)\n",
    "\n",
    "y_svr = []\n",
    "\n",
    "scores(y_svr, svr)"
   ]
  },
  {
   "cell_type": "code",
   "execution_count": null,
   "metadata": {},
   "outputs": [],
   "source": [
    "rf = RandomForestRegressor(random_state = 9, n_estimators = 100, criterion = 'mse')\n",
    "\n",
    "y_rf = []\n",
    "\n",
    "scores(y_rf, rf)"
   ]
  },
  {
   "cell_type": "code",
   "execution_count": null,
   "metadata": {},
   "outputs": [],
   "source": [
    "knn = neighbors.KNeighborsRegressor(n_neighbors = 7, weights = 'uniform')\n",
    "\n",
    "y_knn = []\n",
    "\n",
    "scores(y_knn, knn)"
   ]
  },
  {
   "cell_type": "code",
   "execution_count": null,
   "metadata": {},
   "outputs": [],
   "source": [
    "dnn = MLPRegressor(\n",
    "    solver='lbfgs',\n",
    "    hidden_layer_sizes=100,\n",
    "    max_iter=10000,\n",
    "    random_state=987654321,\n",
    "    activation='identity',\n",
    "    learning_rate ='invscaling')\n",
    "\n",
    "y_dnn = []\n",
    "\n",
    "scores(y_dnn, dnn)"
   ]
  },
  {
   "cell_type": "markdown",
   "metadata": {},
   "source": [
    "# Prediction"
   ]
  },
  {
   "cell_type": "code",
   "execution_count": null,
   "metadata": {},
   "outputs": [],
   "source": [
    "dfCurrentNames = dfCurrent.iloc[:, 1]\n",
    "dfCurrentPredict = dfCurrent[['Team Wins', 'Overall Seed', 'PTS', 'TRB', 'AST', 'FG%', 'VORP', 'WS']]\n",
    "\n",
    "dfCurrent.head()"
   ]
  },
  {
   "cell_type": "markdown",
   "metadata": {},
   "source": [
    "## SVR "
   ]
  },
  {
   "cell_type": "code",
   "execution_count": null,
   "metadata": {},
   "outputs": [],
   "source": [
    "svrPredict = svr.predict(dfCurrentPredict)\n",
    "svrPredict = svrPredict.tolist()\n",
    "\n",
    "for (i, j) in zip(dfCurrentNames, svrPredict):\n",
    "    print(i, j)"
   ]
  },
  {
   "cell_type": "code",
   "execution_count": null,
   "metadata": {},
   "outputs": [],
   "source": [
    "svrListUnsorted = [[i, j] for i, j in zip(dfCurrentNames, svrPredict)]\n",
    "svrDataUnsorted = [row[1] for row in svrListUnsorted]\n",
    "svrList = sorted(svrListUnsorted, key = itemgetter(1), reverse = True)\n",
    "\n",
    "svrData = [row[1] for row in svrList]\n",
    "svrNames = [row[0] for row in svrList]\n",
    "print(svrList)\n",
    "\n",
    "x_svr = np.arange(len(svrData))"
   ]
  },
  {
   "cell_type": "code",
   "execution_count": null,
   "metadata": {},
   "outputs": [],
   "source": [
    "plt.style.use('fivethirtyeight')\n",
    "\n",
    "svr, ax = plt.subplots()\n",
    "\n",
    "ax.bar(x_svr, svrData, width = .7, edgecolor = 'white', color = 'skyblue', linewidth = 4, label = 'Predicted')\n",
    "\n",
    "labels = svrNames\n",
    "\n",
    "rects = ax.patches\n",
    "for rect, label in zip(rects, labels):\n",
    "    if rect.get_x() > 6:\n",
    "        ax.text(rect.get_x() + rect.get_width() / 1.75, rect.get_height() + .02, label,\n",
    "        ha='center', va='bottom', rotation = 'vertical', color = 'black')\n",
    "    elif rect.get_x() <=6:\n",
    "        height = .03\n",
    "        ax.text(rect.get_x() + rect.get_width() / 1.75, height, label,\n",
    "        ha='center', va='bottom', rotation = 'vertical', color = 'black')\n",
    "    \n",
    "svr.suptitle(\"SVM predicted MVP share\", weight = 'bold', size = 18, y = 1.005)\n",
    "ax.set_title(\"NBA.com MVP ladder rank listed in parentheses\", size = 14, fontname = 'Rockwell')\n",
    "ax.xaxis.set_visible(False)\n",
    "ax.set_ylabel(\"Vote Share\")\n",
    "\n",
    "svr.text(x = -0.02, y = 0.03,\n",
    "    s = '_______________________________________________________________',\n",
    "    fontsize = 14, color = 'grey', horizontalalignment='left')\n",
    "\n",
    "svr.text(x = -0.02, y = -.03,\n",
    "    s = 'dribbleanalytics.blogspot.com                     ',\n",
    "    fontsize = 14, fontname = 'Rockwell', color = 'grey', horizontalalignment='left')\n",
    "\n",
    "svr.savefig('svr.png', dpi = 400, bbox_inches = 'tight')"
   ]
  },
  {
   "cell_type": "markdown",
   "metadata": {},
   "source": [
    "## RF"
   ]
  },
  {
   "cell_type": "code",
   "execution_count": null,
   "metadata": {},
   "outputs": [],
   "source": [
    "rfPredict = rf.predict(dfCurrentPredict)\n",
    "rfPredict = rfPredict.tolist()\n",
    "\n",
    "for (i, j) in zip(dfCurrentNames, rfPredict):\n",
    "    print(i, j)"
   ]
  },
  {
   "cell_type": "code",
   "execution_count": null,
   "metadata": {},
   "outputs": [],
   "source": [
    "rfListUnsorted = [[i, j] for i, j in zip(dfCurrentNames, rfPredict)]\n",
    "rfDataUnsorted = [row[1] for row in rfListUnsorted]\n",
    "rfList = sorted(rfListUnsorted, key = itemgetter(1), reverse = True)\n",
    "\n",
    "rfData = [row[1] for row in rfList]\n",
    "rfNames = [row[0] for row in rfList]\n",
    "print(rfList)\n",
    "\n",
    "x_rf = np.arange(len(rfData))"
   ]
  },
  {
   "cell_type": "code",
   "execution_count": null,
   "metadata": {},
   "outputs": [],
   "source": [
    "plt.style.use('fivethirtyeight')\n",
    "\n",
    "rf, ax = plt.subplots()\n",
    "\n",
    "ax.bar(x_rf, rfData, width = .7, edgecolor = 'white', color = 'skyblue', linewidth = 4, label = 'Predicted')\n",
    "\n",
    "labels = rfNames\n",
    "\n",
    "rects = ax.patches\n",
    "for rect, label in zip(rects, labels):\n",
    "    if rect.get_x() > 6:\n",
    "        ax.text(rect.get_x() + rect.get_width() / 1.75, rect.get_height() + .02, label,\n",
    "        ha='center', va='bottom', rotation = 'vertical', color = 'black')\n",
    "    elif rect.get_x() <= 6:\n",
    "        height = .03\n",
    "        ax.text(rect.get_x() + rect.get_width() / 1.75, height, label,\n",
    "        ha='center', va='bottom', rotation = 'vertical', color = 'black')\n",
    "        \n",
    "rf.suptitle(\"RF predicted MVP share\", weight = 'bold', size = 18, y = 1.005)\n",
    "ax.set_title(\"NBA.com MVP ladder rank listed in parentheses\", size = 14, fontname = 'Rockwell')\n",
    "ax.xaxis.set_visible(False)\n",
    "ax.set_ylabel(\"Vote Share\")\n",
    "\n",
    "rf.text(x = -0.02, y = 0.03,\n",
    "    s = '_______________________________________________________________',\n",
    "    fontsize = 14, color = 'grey', horizontalalignment='left')\n",
    "\n",
    "rf.text(x = -0.02, y = -.03,\n",
    "    s = 'dribbleanalytics.blogspot.com                     ',\n",
    "    fontsize = 14, fontname = 'Rockwell', color = 'grey', horizontalalignment='left')\n",
    "\n",
    "rf.savefig('rf.png', dpi = 400, bbox_inches = 'tight')"
   ]
  },
  {
   "cell_type": "markdown",
   "metadata": {},
   "source": [
    "## k-NN"
   ]
  },
  {
   "cell_type": "code",
   "execution_count": null,
   "metadata": {},
   "outputs": [],
   "source": [
    "knnPredict = knn.predict(dfCurrentPredict)\n",
    "knnPredict = knnPredict.tolist()\n",
    "\n",
    "for (i, j) in zip(dfCurrentNames, knnPredict):\n",
    "    print(i, j)"
   ]
  },
  {
   "cell_type": "code",
   "execution_count": null,
   "metadata": {},
   "outputs": [],
   "source": [
    "knnListUnsorted = [[i, j] for i, j in zip(dfCurrentNames, knnPredict)]\n",
    "knnDataUnsorted = [row[1] for row in knnListUnsorted]\n",
    "knnList = sorted(knnListUnsorted, key = itemgetter(1), reverse = True)\n",
    "\n",
    "knnData = [row[1] for row in knnList]\n",
    "knnNames = [row[0] for row in knnList]\n",
    "print(knnList)\n",
    "\n",
    "x_knn = np.arange(len(knnData))"
   ]
  },
  {
   "cell_type": "code",
   "execution_count": null,
   "metadata": {},
   "outputs": [],
   "source": [
    "plt.style.use('fivethirtyeight')\n",
    "\n",
    "knn, ax = plt.subplots()\n",
    "\n",
    "ax.bar(x_knn, knnData, width = .7, edgecolor = 'white', color = 'skyblue', linewidth = 4, label = 'Predicted')\n",
    "\n",
    "labels = knnNames\n",
    "\n",
    "rects = ax.patches\n",
    "for rect, label in zip(rects, labels):\n",
    "    if rect.get_x() > 5:\n",
    "        ax.text(rect.get_x() + rect.get_width() / 1.75, rect.get_height() + .02, label,\n",
    "        ha='center', va='bottom', rotation = 'vertical', color = 'black')\n",
    "    elif rect.get_x() <= 5:\n",
    "        height = .03\n",
    "        ax.text(rect.get_x() + rect.get_width() / 1.75, height, label,\n",
    "        ha='center', va='bottom', rotation = 'vertical', color = 'black')\n",
    "        \n",
    "knn.suptitle(\"KNN predicted MVP share\", weight = 'bold', size = 18, y = 1.005)\n",
    "ax.set_title(\"NBA.com MVP ladder rank listed in parentheses\", size = 14, fontname = 'Rockwell')\n",
    "ax.xaxis.set_visible(False)\n",
    "ax.set_ylabel(\"Vote Share\")\n",
    "\n",
    "knn.text(x = -0.02, y = 0.03,\n",
    "    s = '_______________________________________________________________',\n",
    "    fontsize = 14, color = 'grey', horizontalalignment='left')\n",
    "\n",
    "knn.text(x = -0.02, y = -.03,\n",
    "    s = 'dribbleanalytics.blogspot.com                     ',\n",
    "    fontsize = 14, fontname = 'Rockwell', color = 'grey', horizontalalignment='left')\n",
    "\n",
    "knn.savefig('knn.png', dpi = 400, bbox_inches = 'tight')"
   ]
  },
  {
   "cell_type": "markdown",
   "metadata": {},
   "source": [
    "## DNN"
   ]
  },
  {
   "cell_type": "code",
   "execution_count": null,
   "metadata": {},
   "outputs": [],
   "source": [
    "dnnPredict = dnn.predict(dfCurrentPredict)\n",
    "dnnPredict = dnnPredict.tolist()\n",
    "\n",
    "for (i, j) in zip(dfCurrentNames, dnnPredict):\n",
    "    print(i, j)"
   ]
  },
  {
   "cell_type": "code",
   "execution_count": null,
   "metadata": {},
   "outputs": [],
   "source": [
    "dnnListUnsorted = [[i, j] for i, j in zip(dfCurrentNames, dnnPredict)]\n",
    "dnnDataUnsorted = [row[1] for row in dnnListUnsorted]\n",
    "dnnList = sorted(dnnListUnsorted, key = itemgetter(1), reverse = True)\n",
    "\n",
    "dnnData = [row[1] for row in dnnList]\n",
    "dnnNames = [row[0] for row in dnnList]\n",
    "print(dnnList)\n",
    "\n",
    "x_dnn = np.arange(len(dnnData))"
   ]
  },
  {
   "cell_type": "code",
   "execution_count": null,
   "metadata": {},
   "outputs": [],
   "source": [
    "plt.style.use('fivethirtyeight')\n",
    "\n",
    "dnn, ax = plt.subplots()\n",
    "\n",
    "ax.bar(x_dnn, dnnData, width = .7, edgecolor = 'white', color = 'skyblue', linewidth = 4, label = 'Predicted')\n",
    "\n",
    "labels = dnnNames\n",
    "\n",
    "rects = ax.patches\n",
    "for rect, label in zip(rects, labels):\n",
    "    if rect.get_x() > 8:\n",
    "        ax.text(rect.get_x() + rect.get_width() / 1.75, rect.get_height() + .05, label,\n",
    "        ha='center', va='bottom', rotation = 'vertical', color = 'black')\n",
    "    elif rect.get_x() > 7:\n",
    "        ax.text(rect.get_x() + rect.get_width() / 1.75, rect.get_height() + .02, label,\n",
    "        ha='center', va='bottom', rotation = 'vertical', color = 'black')\n",
    "    elif rect.get_x() <= 7:\n",
    "        height = .03\n",
    "        ax.text(rect.get_x() + rect.get_width() / 1.75, height, label,\n",
    "        ha='center', va='bottom', rotation = 'vertical', color = 'black')\n",
    "        \n",
    "dnn.suptitle(\"DNN predicted MVP share\", weight = 'bold', size = 18, y = 1.005)\n",
    "ax.set_title(\"NBA.com MVP ladder rank listed in parentheses\", size = 14, fontname = 'Rockwell')\n",
    "ax.xaxis.set_visible(False)\n",
    "ax.set_ylabel(\"Vote Share\")\n",
    "\n",
    "dnn.text(x = -0.02, y = 0.03,\n",
    "    s = '_______________________________________________________________',\n",
    "    fontsize = 14, color = 'grey', horizontalalignment='left')\n",
    "\n",
    "dnn.text(x = -0.02, y = -.03,\n",
    "    s = 'dribbleanalytics.blogspot.com                     ',\n",
    "    fontsize = 14, fontname = 'Rockwell', color = 'grey', horizontalalignment='left')\n",
    "\n",
    "dnn.savefig('dnn.png', dpi = 400, bbox_inches = 'tight')"
   ]
  },
  {
   "cell_type": "markdown",
   "metadata": {},
   "source": [
    "## Average"
   ]
  },
  {
   "cell_type": "code",
   "execution_count": null,
   "metadata": {},
   "outputs": [],
   "source": [
    "avgPredict = []\n",
    "\n",
    "for (i, j, h, k) in zip(svrDataUnsorted, rfDataUnsorted, knnDataUnsorted, dnnDataUnsorted):\n",
    "    avgPredict.append((i + j + h + k) / 4)\n",
    "\n",
    "avgList = [[i, j] for i, j in zip(dfCurrentNames, avgPredict)]\n",
    "avgList = sorted(avgList, key = itemgetter(1), reverse = True)\n",
    "\n",
    "avgData = [row[1] for row in avgList]\n",
    "avgNames = [row[0] for row in avgList]\n",
    "print(avgList)\n",
    "\n",
    "x_avg = np.arange(len(avgData))"
   ]
  },
  {
   "cell_type": "code",
   "execution_count": null,
   "metadata": {},
   "outputs": [],
   "source": [
    "plt.style.use('fivethirtyeight')\n",
    "\n",
    "avg, ax = plt.subplots()\n",
    "\n",
    "ax.bar(x_avg, avgData, width = .7, edgecolor = 'white', color = 'skyblue', linewidth = 4, label = 'Predicted')\n",
    "\n",
    "labels = avgNames\n",
    "\n",
    "rects = ax.patches\n",
    "for rect, label in zip(rects, labels):\n",
    "    if rect.get_x() > 6:\n",
    "        ax.text(rect.get_x() + rect.get_width() / 1.75, rect.get_height() + .02, label,\n",
    "        ha='center', va='bottom', rotation = 'vertical', color = 'black')\n",
    "    elif rect.get_x() <= 6:\n",
    "        height = .03\n",
    "        ax.text(rect.get_x() + rect.get_width() / 1.75, height, label,\n",
    "        ha='center', va='bottom', rotation = 'vertical', color = 'black')\n",
    "        \n",
    "avg.suptitle(\"Average predicted MVP share\", weight = 'bold', size = 18, y = 1.005)\n",
    "ax.set_title(\"NBA.com MVP ladder rank listed in parentheses\", size = 14, fontname = 'Rockwell')\n",
    "ax.xaxis.set_visible(False)\n",
    "ax.set_ylabel(\"Vote Share\")\n",
    "\n",
    "avg.text(x = -0.02, y = 0.03,\n",
    "    s = '_______________________________________________________________',\n",
    "    fontsize = 14, color = 'grey', horizontalalignment='left')\n",
    "\n",
    "avg.text(x = -0.02, y = -.03,\n",
    "    s = 'dribbleanalytics.blogspot.com                     ',\n",
    "    fontsize = 14, fontname = 'Rockwell', color = 'grey', horizontalalignment='left')\n",
    "\n",
    "avg.savefig('avg.png', dpi = 400, bbox_inches = 'tight')"
   ]
  },
  {
   "cell_type": "markdown",
   "metadata": {},
   "source": [
    "# Change in predictions"
   ]
  },
  {
   "cell_type": "code",
   "execution_count": null,
   "metadata": {},
   "outputs": [],
   "source": [
    "plt.style.use('fivethirtyeight')\n",
    "change, ax = plt.subplots()\n",
    "\n",
    "y_pos = np.arange(len(dfChange['Difference']))\n",
    "\n",
    "colorList = []\n",
    "\n",
    "for i in dfChange['Difference'].sort_values(ascending = True):\n",
    "    if i < 0:\n",
    "        colorList.append('lightcoral')\n",
    "    elif i > 0:\n",
    "        colorList.append('lightgreen')\n",
    "\n",
    "ax.barh(y_pos, dfChange['Difference'].sort_values(ascending = True), color = colorList, edgecolor = 'white', linewidth = 3)\n",
    "\n",
    "labels = [i for i in dfChange['Player']]\n",
    "labels = reversed(labels)\n",
    "\n",
    "rects = ax.patches\n",
    "for rect, label in zip(rects, labels):\n",
    "    height = rect.get_y()\n",
    "    if rect.get_y() < 2:\n",
    "        ax.text(rect.get_x() + .005, height, label,\n",
    "        ha='left', va='bottom', color = 'black')\n",
    "    elif rect.get_y() >= 2:\n",
    "        ax.text(rect.get_x() - .005, height, label,\n",
    "        ha='right', va='bottom', color = 'black')\n",
    "\n",
    "change.suptitle(\"Change in predicted MVP share\", weight = 'bold', size = 18)\n",
    "ax.yaxis.set_visible(False)\n",
    "ax.set_xlabel(\"ASB average vote share - midseason vote share\", size = 14)\n",
    "\n",
    "change.text(x = -0.02, y = -0.07,\n",
    "    s = '_______________________________________________________________',\n",
    "    fontsize = 14, color = 'grey', horizontalalignment='left')\n",
    "\n",
    "change.text(x = -0.02, y = -.14,\n",
    "    s = 'dribbleanalytics.blogspot.com                     ',\n",
    "    fontsize = 14, fontname = 'Rockwell', color = 'grey', horizontalalignment='left')\n",
    " \n",
    "change.savefig('change.png', dpi = 400, bbox_inches = 'tight')"
   ]
  }
 ],
 "metadata": {
  "kernelspec": {
   "display_name": "Python 3",
   "language": "python",
   "name": "python3"
  },
  "language_info": {
   "codemirror_mode": {
    "name": "ipython",
    "version": 3
   },
   "file_extension": ".py",
   "mimetype": "text/x-python",
   "name": "python",
   "nbconvert_exporter": "python",
   "pygments_lexer": "ipython3",
   "version": "3.6.4"
  }
 },
 "nbformat": 4,
 "nbformat_minor": 2
}
