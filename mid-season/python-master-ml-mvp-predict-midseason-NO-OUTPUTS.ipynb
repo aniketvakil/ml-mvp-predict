{
 "cells": [
  {
   "cell_type": "code",
   "execution_count": null,
   "metadata": {},
   "outputs": [],
   "source": [
    "# Import necessary packages\n",
    "\n",
    "%matplotlib inline\n",
    "\n",
    "import pandas as pd\n",
    "import numpy as np\n",
    "import matplotlib.pyplot as plt\n",
    "from sklearn.model_selection import train_test_split\n",
    "from sklearn.svm import SVR\n",
    "from sklearn.ensemble import RandomForestRegressor\n",
    "from sklearn import neighbors\n",
    "from sklearn.neural_network import MLPRegressor\n",
    "from sklearn.metrics import mean_squared_error, r2_score\n",
    "from sklearn.model_selection import KFold\n",
    "from scipy.stats import norm\n",
    "from operator import itemgetter\n",
    "from sklearn.model_selection import cross_val_score"
   ]
  },
  {
   "cell_type": "code",
   "execution_count": null,
   "metadata": {},
   "outputs": [],
   "source": [
    "# Import the datasets\n",
    "\n",
    "dfHistorical = pd.read_csv('historical-mvps.csv')\n",
    "dfCurrent = pd.read_csv('current-mvp-ladder.csv')"
   ]
  },
  {
   "cell_type": "code",
   "execution_count": null,
   "metadata": {},
   "outputs": [],
   "source": [
    "# Preview the historical dataset\n",
    "\n",
    "dfHistorical.head()"
   ]
  },
  {
   "cell_type": "markdown",
   "metadata": {},
   "source": [
    "# Histogram of share"
   ]
  },
  {
   "cell_type": "code",
   "execution_count": null,
   "metadata": {},
   "outputs": [],
   "source": [
    "plt.style.use('fivethirtyeight')\n",
    "\n",
    "voteHist, ax = plt.subplots()\n",
    "\n",
    "ax.hist(dfHistorical['Share'], bins = 16, edgecolor = 'white', linewidth = 3, normed = True, label = \"Actual distribution\")\n",
    "voteHist.suptitle(\"Histogram of historical vote share\", weight = 'bold', size = 18, y = 1.05)\n",
    "ax.set_xlabel(\"Vote Share\")\n",
    "ax.set_ylabel(\"Frequency\")\n",
    "\n",
    "overall_mean = dfHistorical['Share'].mean()\n",
    "overall_std = dfHistorical['Share'].std()\n",
    "\n",
    "xmin, xmax = plt.xlim()\n",
    "x = np.linspace(xmin, xmax, 100)\n",
    "p = norm.pdf(x, overall_mean, overall_std)\n",
    "ax.plot(x, p, 'k', linewidth=5, color='orange', label = \"Normalized distribution\")\n",
    "\n",
    "ax.legend(loc='best', prop={'size': 9, \"family\": \"Rockwell\"})\n",
    "\n",
    "voteHist.text(x = 0, y = -0.08,\n",
    "    s = '____________________________________________________________',\n",
    "    fontsize = 14, color = 'grey', horizontalalignment='left')\n",
    "\n",
    "voteHist.text(x = 0, y = -.14,\n",
    "    s = 'dribbleanalytics.blogspot.com                     ',\n",
    "    fontsize = 14, fontname = 'Rockwell', color = 'grey', horizontalalignment='left')\n",
    "\n",
    "voteHist.savefig('vote-hist.png', dpi = 400, bbox_inches = 'tight')"
   ]
  },
  {
   "cell_type": "markdown",
   "metadata": {},
   "source": [
    "# Create models"
   ]
  },
  {
   "cell_type": "code",
   "execution_count": null,
   "metadata": {},
   "outputs": [],
   "source": [
    "train, test = train_test_split(dfHistorical, test_size = 0.25, random_state = 10)\n",
    "\n",
    "xtrain = train[['Team Wins', 'Overall Seed', 'PTS', 'TRB', 'AST', 'FG%', 'VORP', 'WS']]\n",
    "ytrain = train[['Share']]\n",
    "\n",
    "xtest = test[['Team Wins', 'Overall Seed', 'PTS', 'TRB', 'AST', 'FG%', 'VORP', 'WS']]\n",
    "ytest = test[['Share']]"
   ]
  },
  {
   "cell_type": "code",
   "execution_count": null,
   "metadata": {},
   "outputs": [],
   "source": [
    "# Create function that gives accuracy scores for each model\n",
    "\n",
    "def scores(y, model):\n",
    "    \n",
    "    model.fit(xtrain, ytrain.values.ravel())\n",
    "    y_pred = model.predict(xtest)\n",
    "    \n",
    "    print(\"Mean squared error: %.3f\" % mean_squared_error(ytest, y_pred))\n",
    "    print('R2 score: %.3f' % r2_score(ytest, y_pred))\n",
    "\n",
    "    cvScore = cross_val_score(model, xtest, ytest.values.ravel(), cv = 3, scoring = 'r2')\n",
    "    print(\"R2 cross validation score: %0.2f (+/- %0.2f)\" % (cvScore.mean(), cvScore.std() * 2))\n",
    "    \n",
    "    for i in y_pred:\n",
    "        y.append(i)"
   ]
  },
  {
   "cell_type": "code",
   "execution_count": null,
   "metadata": {},
   "outputs": [],
   "source": [
    "svr = SVR(kernel='rbf', gamma=1e-4, C=100, epsilon = .1)\n",
    "\n",
    "y_svr = []\n",
    "\n",
    "scores(y_svr, svr)"
   ]
  },
  {
   "cell_type": "code",
   "execution_count": null,
   "metadata": {},
   "outputs": [],
   "source": [
    "rf = RandomForestRegressor(random_state = 9, n_estimators = 100, criterion = 'mse')\n",
    "\n",
    "y_rf = []\n",
    "\n",
    "scores(y_rf, rf)"
   ]
  },
  {
   "cell_type": "code",
   "execution_count": null,
   "metadata": {},
   "outputs": [],
   "source": [
    "knn = neighbors.KNeighborsRegressor(n_neighbors = 7, weights = 'uniform')\n",
    "\n",
    "y_knn = []\n",
    "\n",
    "scores(y_knn, knn)"
   ]
  },
  {
   "cell_type": "code",
   "execution_count": null,
   "metadata": {},
   "outputs": [],
   "source": [
    "dnn = MLPRegressor(\n",
    "    solver='lbfgs',\n",
    "    hidden_layer_sizes=100,\n",
    "    max_iter=10000,\n",
    "    random_state=987654321,\n",
    "    activation='identity',\n",
    "    learning_rate ='invscaling')\n",
    "\n",
    "y_dnn = []\n",
    "\n",
    "scores(y_dnn, dnn)"
   ]
  },
  {
   "cell_type": "markdown",
   "metadata": {},
   "source": [
    "# Standardized residuals test"
   ]
  },
  {
   "cell_type": "code",
   "execution_count": null,
   "metadata": {},
   "outputs": [],
   "source": [
    "#Create function that prepares the standardized residuals\n",
    "\n",
    "def residuals(x, y):\n",
    "    \n",
    "    resid = [i for i in (ytest['Share'] - x)]\n",
    "    ssr = [i ** 2 for i in resid]\n",
    "    \n",
    "    ssrSum = 0\n",
    "    for i in ssr:\n",
    "        ssrSum += i\n",
    "        \n",
    "    standResid = []\n",
    "    for i in resid:\n",
    "        standResid.append(i / ((ssrSum / (ytest.shape[0] - 2)) ** (1/2)))\n",
    "    \n",
    "    for i in standResid:\n",
    "        y.append(i)"
   ]
  },
  {
   "cell_type": "code",
   "execution_count": null,
   "metadata": {},
   "outputs": [],
   "source": [
    "svrResid = []\n",
    "rfResid = []\n",
    "knnResid = []\n",
    "dnnResid = []\n",
    "\n",
    "residuals(y_svr, svrResid)\n",
    "residuals(y_rf, rfResid)\n",
    "residuals(y_knn, knnResid)\n",
    "residuals(y_dnn, dnnResid)"
   ]
  },
  {
   "cell_type": "code",
   "execution_count": null,
   "metadata": {},
   "outputs": [],
   "source": [
    "def outliers(x):\n",
    "    \n",
    "    npList = np.array(x)\n",
    "    stdev = np.std(npList)\n",
    "    mean = np.mean(npList)\n",
    "\n",
    "    outliers = 0\n",
    "    for i in x:\n",
    "        if i < mean - 2 * stdev:\n",
    "            outliers += 1\n",
    "        elif i > mean + 2 * stdev:\n",
    "            outliers += 1\n",
    "\n",
    "    outlierPercent = 1 - outliers / ytest.shape[0]\n",
    "    outlierString = \"{:.3%}\".format(outlierPercent)\n",
    "    \n",
    "    return outlierString"
   ]
  },
  {
   "cell_type": "code",
   "execution_count": null,
   "metadata": {},
   "outputs": [],
   "source": [
    "plt.style.use('fivethirtyeight')\n",
    "\n",
    "residFig, ((ax1, ax2), (ax3, ax4)) = plt.subplots(2, 2, sharey = 'row')\n",
    "\n",
    "x = np.arange(ytest.shape[0])\n",
    "ax1.xaxis.set_visible(False)\n",
    "ax2.xaxis.set_visible(False)\n",
    "ax3.xaxis.set_visible(False)\n",
    "ax4.xaxis.set_visible(False)\n",
    "\n",
    "ax1.scatter(x, svrResid)\n",
    "ax1.axhline(y = np.mean(svrResid), label = \"Average\")\n",
    "ax1.axhline(y = np.mean(svrResid) - 2 * np.std(svrResid), color = 'orange')\n",
    "ax1.axhline(y = np.mean(svrResid) + 2 * np.std(svrResid), label = \"2 stdev from mean\", color = 'orange')\n",
    "ax1.set_title(\"SVM: %s\" % outliers(svrResid), size = 18, x = .485, ha = 'center')\n",
    "\n",
    "ax2.scatter(x, rfResid)\n",
    "ax2.axhline(y = np.mean(rfResid))\n",
    "ax2.axhline(y = np.mean(rfResid) - 2 * np.std(rfResid), color = 'orange')\n",
    "ax2.axhline(y = np.mean(rfResid) + 2 * np.std(rfResid), color = 'orange')\n",
    "ax2.set_title(\"RF: %s\" % outliers(rfResid), size = 18, x = .485, ha = 'center')\n",
    "\n",
    "ax3.scatter(x, knnResid)\n",
    "ax3.axhline(y = np.mean(knnResid))\n",
    "ax3.axhline(y = np.mean(knnResid) - 2 * np.std(knnResid), color = 'orange')\n",
    "ax3.axhline(y = np.mean(knnResid) + 2 * np.std(knnResid), color = 'orange')\n",
    "ax3.set_title(\"k-NN: %s\" % outliers(knnResid), size = 18, x = .485, ha = 'center')\n",
    "\n",
    "ax4.scatter(x, dnnResid)\n",
    "ax4.axhline(y = np.mean(dnnResid))\n",
    "ax4.axhline(y = np.mean(dnnResid) - 2 * np.std(dnnResid), color = 'orange')\n",
    "ax4.axhline(y = np.mean(dnnResid) + 2 * np.std(dnnResid), color = 'orange')\n",
    "ax4.set_title(\"DNN: %s\" % outliers(dnnResid), size = 18, x = .485, ha = 'center')\n",
    "\n",
    "residFig.legend(loc = (.25, .88), ncol=2, prop={'size': 12, \"family\": \"Rockwell\"})\n",
    "\n",
    "residFig.suptitle(\"Standardized Residuals\", weight = 'bold', size = 18, y = 1.08)\n",
    "\n",
    "ax1.yaxis.set_ticks([-2.5, 0, 2.5])\n",
    "ax3.yaxis.set_ticks([-2.5, 0, 2.5])\n",
    "\n",
    "residFig.text(x = 0, y = 0,\n",
    "    s = '________________________________________________________________',\n",
    "    fontsize = 14, color = 'grey', horizontalalignment='left')\n",
    "\n",
    "residFig.text(x = 0, y = -.06,\n",
    "    s = 'dribbleanalytics.blogspot.com                     ',\n",
    "    fontsize = 14, fontname = 'Rockwell', color = 'grey', horizontalalignment='left')\n",
    "\n",
    "residFig.savefig('resid-fig.png', dpi = 400, bbox_inches = 'tight')"
   ]
  },
  {
   "cell_type": "markdown",
   "metadata": {},
   "source": [
    "# Q-Q plot"
   ]
  },
  {
   "cell_type": "code",
   "execution_count": null,
   "metadata": {},
   "outputs": [],
   "source": [
    "plt.rcParams.update(plt.rcParamsDefault)\n",
    "plt.style.use('fivethirtyeight')\n",
    "\n",
    "import scipy.stats as stats\n",
    "\n",
    "qqplot = plt.figure()\n",
    "\n",
    "ax1 = qqplot.add_subplot(221)\n",
    "stats.probplot(svrResid, dist=\"norm\", plot=plt)\n",
    "ax1.set_xlabel(\"\")\n",
    "ax1.set_xticklabels([])\n",
    "ax1.set_ylabel(\"\")\n",
    "ax1.set_title(\"SVM\")\n",
    "\n",
    "ax2 = qqplot.add_subplot(222)\n",
    "stats.probplot(rfResid, dist=\"norm\", plot=plt)\n",
    "ax2.set_xlabel(\"\")\n",
    "ax2.set_xticklabels([])\n",
    "ax2.set_ylabel(\"\")\n",
    "ax2.set_title(\"RF\")\n",
    "ax2.set_xticklabels([])\n",
    "ax2.set_yticklabels([])\n",
    "\n",
    "ax3 = qqplot.add_subplot(223)\n",
    "stats.probplot(knnResid, dist=\"norm\", plot=plt)\n",
    "ax3.set_xlabel(\"\")\n",
    "ax3.set_ylabel(\"\")\n",
    "ax3.set_title(\"KNN\")\n",
    "\n",
    "ax4 = qqplot.add_subplot(224)\n",
    "stats.probplot(dnnResid, dist = \"norm\", plot = plt)\n",
    "ax4.set_xlabel(\"\")\n",
    "ax4.set_ylabel(\"\")\n",
    "ax4.set_title(\"DNN\")\n",
    "ax4.set_yticklabels([])\n",
    "\n",
    "qqplot.text(0.5, -0.02, 'Theoretical Quantiles', ha='center', va='center', size = 18)\n",
    "qqplot.text(0.01, 0.5, 'Ordered Values', ha='center', va='center', rotation='vertical', size = 18)\n",
    "\n",
    "qqplot.text(x = 0, y = -0.05,\n",
    "    s = '_______________________________________________________________',\n",
    "    fontsize = 14, color = 'grey', horizontalalignment='left')\n",
    "\n",
    "qqplot.text(x = 0, y = -.1,\n",
    "    s = 'dribbleanalytics.blogspot.com                     ',\n",
    "    fontsize = 14, fontname = 'Rockwell', color = 'grey', horizontalalignment='left')\n",
    "\n",
    "qqplot.savefig('qqplot.png', dpi = 400, bbox_inches = 'tight')"
   ]
  },
  {
   "cell_type": "markdown",
   "metadata": {},
   "source": [
    "# Shapiro-Wilk test"
   ]
  },
  {
   "cell_type": "code",
   "execution_count": null,
   "metadata": {},
   "outputs": [],
   "source": [
    "from scipy.stats import shapiro\n",
    "\n",
    "print(shapiro(svrResid))\n",
    "print(shapiro(rfResid))\n",
    "print(shapiro(knnResid))\n",
    "print(shapiro(dnnResid))"
   ]
  },
  {
   "cell_type": "markdown",
   "metadata": {},
   "source": [
    "# Durbin-Watson test "
   ]
  },
  {
   "cell_type": "code",
   "execution_count": null,
   "metadata": {},
   "outputs": [],
   "source": [
    "from statsmodels.stats import stattools as stools\n",
    "\n",
    "print(stools.durbin_watson(svrResid))\n",
    "print(stools.durbin_watson(rfResid))\n",
    "print(stools.durbin_watson(knnResid))\n",
    "print(stools.durbin_watson(dnnResid))"
   ]
  },
  {
   "cell_type": "markdown",
   "metadata": {},
   "source": [
    "# Learning curve for MSE"
   ]
  },
  {
   "cell_type": "code",
   "execution_count": null,
   "metadata": {},
   "outputs": [],
   "source": [
    "from sklearn.model_selection import learning_curve\n",
    "\n",
    "train_sizes = [1, 25, 50, 75, 100, 125, 150, 175, 200, 225, 250]\n",
    "\n",
    "\n",
    "features = ['Team Wins', 'Overall Seed', 'PTS', 'TRB', 'AST', 'FG%', 'VORP', 'WS']\n",
    "target = 'Share'\n",
    "\n",
    "train_sizesSVR, train_scoresSVR, validation_scoresSVR = learning_curve(estimator = SVR(\n",
    "    kernel='rbf', gamma=1e-4, C=100, epsilon = .1),\n",
    "    X = dfHistorical[features], y = dfHistorical[target], train_sizes = train_sizes, cv = 3,\n",
    "    scoring = 'neg_mean_squared_error')"
   ]
  },
  {
   "cell_type": "code",
   "execution_count": null,
   "metadata": {},
   "outputs": [],
   "source": [
    "train_sizesRF, train_scoresRF, validation_scoresRF = learning_curve(estimator = RandomForestRegressor(\n",
    "    random_state = 9, n_estimators = 100, criterion = 'mse'),\n",
    "    X = dfHistorical[features], y = dfHistorical[target], train_sizes = train_sizes, cv = 3,\n",
    "    scoring = 'neg_mean_squared_error')"
   ]
  },
  {
   "cell_type": "code",
   "execution_count": null,
   "metadata": {},
   "outputs": [],
   "source": [
    "train_sizes1 = [7, 25, 50, 75, 100, 125, 150, 175, 200, 225, 250]\n",
    "\n",
    "train_sizesKNN, train_scoresKNN, validation_scoresKNN = learning_curve(estimator = neighbors.KNeighborsRegressor(\n",
    "    n_neighbors = 7, weights = 'uniform'),\n",
    "    X = dfHistorical[features], y = dfHistorical[target], train_sizes = train_sizes1, cv = 3,\n",
    "    scoring = 'neg_mean_squared_error')"
   ]
  },
  {
   "cell_type": "code",
   "execution_count": null,
   "metadata": {},
   "outputs": [],
   "source": [
    "train_sizesDNN, train_scoresDNN, validation_scoresDNN = learning_curve(estimator = MLPRegressor(\n",
    "    solver='lbfgs',\n",
    "    hidden_layer_sizes=100,\n",
    "    max_iter=10000,\n",
    "    random_state=987654321,\n",
    "    activation='identity',\n",
    "    learning_rate ='invscaling'),\n",
    "    X = dfHistorical[features], y = dfHistorical[target], train_sizes = train_sizes, cv = 3,\n",
    "    scoring = 'neg_mean_squared_error')"
   ]
  },
  {
   "cell_type": "code",
   "execution_count": null,
   "metadata": {},
   "outputs": [],
   "source": [
    "train_scores_meanSVR = -train_scoresSVR.mean(axis = 1)\n",
    "validation_scores_meanSVR = -validation_scoresSVR.mean(axis = 1)\n",
    "\n",
    "train_scores_meanRF = -train_scoresRF.mean(axis = 1)\n",
    "validation_scores_meanRF = -validation_scoresRF.mean(axis = 1)\n",
    "\n",
    "train_scores_meanKNN = -train_scoresKNN.mean(axis = 1)\n",
    "validation_scores_meanKNN = -validation_scoresKNN.mean(axis = 1)\n",
    "\n",
    "train_scores_meanDNN = -train_scoresDNN.mean(axis = 1)\n",
    "validation_scores_meanDNN = -validation_scoresDNN.mean(axis = 1)"
   ]
  },
  {
   "cell_type": "code",
   "execution_count": null,
   "metadata": {},
   "outputs": [],
   "source": [
    "plt.rcParams.update(plt.rcParamsDefault)\n",
    "plt.style.use('fivethirtyeight')\n",
    "\n",
    "learningCurveMSE, ((ax1, ax2), (ax3, ax4)) = plt.subplots(2, 2, sharex='col')\n",
    "\n",
    "ax1.plot(train_sizesSVR, train_scores_meanSVR, label = 'Training set error')\n",
    "ax1.plot(train_sizesSVR, validation_scores_meanSVR, label = 'Testing set error')\n",
    "ax1.set_title(\"SVM\")\n",
    "\n",
    "ax2.plot(train_sizesRF, train_scores_meanRF)\n",
    "ax2.plot(train_sizesRF, validation_scores_meanRF)\n",
    "ax2.set_title(\"RF\")\n",
    "\n",
    "ax3.plot(train_sizesKNN, train_scores_meanKNN)\n",
    "ax3.plot(train_sizesKNN, validation_scores_meanKNN)\n",
    "ax3.set_title(\"KNN\")\n",
    "\n",
    "ax4.plot(train_sizesDNN, train_scores_meanDNN)\n",
    "ax4.plot(train_sizesDNN, validation_scores_meanDNN)\n",
    "ax4.set_title(\"DNN\")\n",
    "\n",
    "learningCurveMSE.suptitle(\"Learning Curve for MSE\", weight = 'bold', size = 18, y = 1.08)\n",
    "learningCurveMSE.legend(loc = (.21, .88), ncol=2, prop={'size': 12, \"family\": \"Rockwell\"})\n",
    "\n",
    "learningCurveMSE.text(x = -0.02, y = 0,\n",
    "    s = '_______________________________________________________________',\n",
    "    fontsize = 14, color = 'grey', horizontalalignment='left')\n",
    "\n",
    "learningCurveMSE.text(x = -0.02, y = -.06,\n",
    "    s = 'dribbleanalytics.blogspot.com                     ',\n",
    "    fontsize = 14, fontname = 'Rockwell', color = 'grey', horizontalalignment='left')\n",
    "\n",
    "learningCurveMSE.savefig('learningCurveMSE.png', dpi = 400, bbox_inches = 'tight')"
   ]
  },
  {
   "cell_type": "markdown",
   "metadata": {},
   "source": [
    "# Learning curve for R2"
   ]
  },
  {
   "cell_type": "code",
   "execution_count": null,
   "metadata": {},
   "outputs": [],
   "source": [
    "train_sizes = [1, 25, 50, 75, 100, 125, 150, 175, 200, 225, 250]\n",
    "\n",
    "features = ['Team Wins', 'Overall Seed', 'PTS', 'TRB', 'AST', 'FG%', 'VORP', 'WS']\n",
    "target = 'Share'\n",
    "\n",
    "train_sizesSVR, train_scoresSVR, validation_scoresSVR = learning_curve(estimator = SVR(\n",
    "    kernel='rbf', gamma=1e-4, C=100, epsilon = .1),\n",
    "    X = dfHistorical[features], y = dfHistorical[target], train_sizes = train_sizes, cv = 3,\n",
    "    scoring = 'r2')"
   ]
  },
  {
   "cell_type": "code",
   "execution_count": null,
   "metadata": {},
   "outputs": [],
   "source": [
    "train_sizesRF, train_scoresRF, validation_scoresRF = learning_curve(estimator = RandomForestRegressor(\n",
    "    random_state = 9, n_estimators = 100, criterion = 'mse'),\n",
    "    X = dfHistorical[features], y = dfHistorical[target], train_sizes = train_sizes, cv = 3,\n",
    "    scoring = 'r2')"
   ]
  },
  {
   "cell_type": "code",
   "execution_count": null,
   "metadata": {},
   "outputs": [],
   "source": [
    "train_sizes1 = [7, 25, 50, 75, 100, 125, 150, 175, 200, 225, 250]\n",
    "\n",
    "train_sizesKNN, train_scoresKNN, validation_scoresKNN = learning_curve(estimator = neighbors.KNeighborsRegressor(\n",
    "    n_neighbors = 7, weights = 'uniform'),\n",
    "    X = dfHistorical[features], y = dfHistorical[target], train_sizes = train_sizes1, cv = 3,\n",
    "    scoring = 'r2')"
   ]
  },
  {
   "cell_type": "code",
   "execution_count": null,
   "metadata": {},
   "outputs": [],
   "source": [
    "train_sizesDNN, train_scoresDNN, validation_scoresDNN = learning_curve(estimator = MLPRegressor(\n",
    "    solver='lbfgs',\n",
    "    hidden_layer_sizes=100,\n",
    "    max_iter=10000,\n",
    "    random_state=987654321,\n",
    "    activation='identity',\n",
    "    learning_rate ='invscaling'),\n",
    "    X = dfHistorical[features], y = dfHistorical[target], train_sizes = train_sizes, cv = 3,\n",
    "    scoring = 'r2')"
   ]
  },
  {
   "cell_type": "code",
   "execution_count": null,
   "metadata": {},
   "outputs": [],
   "source": [
    "train_scores_meanSVR = train_scoresSVR.mean(axis = 1)\n",
    "validation_scores_meanSVR = validation_scoresSVR.mean(axis = 1)\n",
    "\n",
    "train_scores_meanRF = train_scoresRF.mean(axis = 1)\n",
    "validation_scores_meanRF = validation_scoresRF.mean(axis = 1)\n",
    "\n",
    "train_scores_meanKNN = train_scoresKNN.mean(axis = 1)\n",
    "validation_scores_meanKNN = validation_scoresKNN.mean(axis = 1)\n",
    "\n",
    "train_scores_meanDNN = train_scoresDNN.mean(axis = 1)\n",
    "validation_scores_meanDNN = validation_scoresDNN.mean(axis = 1)"
   ]
  },
  {
   "cell_type": "code",
   "execution_count": null,
   "metadata": {},
   "outputs": [],
   "source": [
    "plt.style.use('fivethirtyeight')\n",
    "\n",
    "learningCurveR2, ((ax1, ax2), (ax3, ax4)) = plt.subplots(2, 2, sharex='col')\n",
    "\n",
    "ax1.plot(train_sizesSVR, train_scores_meanSVR, label = 'Training set error')\n",
    "ax1.plot(train_sizesSVR, validation_scores_meanSVR, label = 'Testing set error')\n",
    "ax1.set_title(\"SVM\")\n",
    "\n",
    "ax2.plot(train_sizesRF, train_scores_meanRF)\n",
    "ax2.plot(train_sizesRF, validation_scores_meanRF)\n",
    "ax2.set_title(\"RF\")\n",
    "\n",
    "ax3.plot(train_sizesKNN, train_scores_meanKNN)\n",
    "ax3.plot(train_sizesKNN, validation_scores_meanKNN)\n",
    "ax3.set_title(\"KNN\")\n",
    "\n",
    "ax4.plot(train_sizesDNN, train_scores_meanDNN)\n",
    "ax4.plot(train_sizesDNN, validation_scores_meanDNN)\n",
    "ax4.set_title(\"DNN\")\n",
    "\n",
    "learningCurveR2.suptitle(\"Learning Curve for r-squared\", weight = 'bold', size = 18, y = 1.08)\n",
    "learningCurveR2.legend(loc = (.22, .88), ncol=2, prop={'size': 12, \"family\": \"Rockwell\"})\n",
    "\n",
    "learningCurveR2.text(x = -0.02, y = 0,\n",
    "    s = '_______________________________________________________________',\n",
    "    fontsize = 14, color = 'grey', horizontalalignment='left')\n",
    "\n",
    "learningCurveR2.text(x = -0.02, y = -.06,\n",
    "    s = 'dribbleanalytics.blogspot.com                     ',\n",
    "    fontsize = 14, fontname = 'Rockwell', color = 'grey', horizontalalignment='left')\n",
    "\n",
    "learningCurveR2.savefig('learningCurveR2.png', dpi = 400, bbox_inches = 'tight')"
   ]
  },
  {
   "cell_type": "markdown",
   "metadata": {},
   "source": [
    "# Prediction"
   ]
  },
  {
   "cell_type": "code",
   "execution_count": null,
   "metadata": {},
   "outputs": [],
   "source": [
    "dfCurrentNames = dfCurrent.iloc[:, 1]\n",
    "dfCurrentPredict = dfCurrent[['Team Wins', 'Overall Seed', 'PTS', 'TRB', 'AST', 'FG%', 'VORP', 'WS']]\n",
    "\n",
    "dfCurrent.head()"
   ]
  },
  {
   "cell_type": "markdown",
   "metadata": {},
   "source": [
    "## SVR "
   ]
  },
  {
   "cell_type": "code",
   "execution_count": null,
   "metadata": {},
   "outputs": [],
   "source": [
    "svrPredict = svr.predict(dfCurrentPredict)\n",
    "svrPredict = svrPredict.tolist()\n",
    "\n",
    "for (i, j) in zip(dfCurrentNames, svrPredict):\n",
    "    print(i, j)"
   ]
  },
  {
   "cell_type": "code",
   "execution_count": null,
   "metadata": {},
   "outputs": [],
   "source": [
    "svrListUnsorted = [[i, j] for i, j in zip(dfCurrentNames, svrPredict)]\n",
    "svrDataUnsorted = [row[1] for row in svrListUnsorted]\n",
    "svrList = sorted(svrListUnsorted, key = itemgetter(1), reverse = True)\n",
    "\n",
    "svrData = [row[1] for row in svrList]\n",
    "svrNames = [row[0] for row in svrList]\n",
    "print(svrList)\n",
    "\n",
    "x_svr = np.arange(len(svrData))"
   ]
  },
  {
   "cell_type": "code",
   "execution_count": null,
   "metadata": {},
   "outputs": [],
   "source": [
    "plt.style.use('fivethirtyeight')\n",
    "\n",
    "svr, ax = plt.subplots()\n",
    "\n",
    "ax.bar(x_svr, svrData, width = .7, edgecolor = 'white', color = 'skyblue', linewidth = 4, label = 'Predicted')\n",
    "\n",
    "labels = svrNames\n",
    "\n",
    "rects = ax.patches\n",
    "for rect, label in zip(rects, labels):\n",
    "    if rect.get_x() > 7:\n",
    "        ax.text(rect.get_x() + rect.get_width() / 1.75, rect.get_height() + .02, label,\n",
    "        ha='center', va='bottom', rotation = 'vertical', color = 'black')\n",
    "    elif rect.get_x() <=7:\n",
    "        height = .03\n",
    "        ax.text(rect.get_x() + rect.get_width() / 1.75, height, label,\n",
    "        ha='center', va='bottom', rotation = 'vertical', color = 'black')\n",
    "    \n",
    "svr.suptitle(\"SVM predicted MVP share\", weight = 'bold', size = 18, y = 1.005)\n",
    "ax.set_title(\"NBA.com MVP ladder rank listed in parentheses\", size = 14, fontname = 'Rockwell')\n",
    "ax.xaxis.set_visible(False)\n",
    "ax.set_ylabel(\"Vote Share\")\n",
    "\n",
    "svr.text(x = -0.02, y = 0.03,\n",
    "    s = '_______________________________________________________________',\n",
    "    fontsize = 14, color = 'grey', horizontalalignment='left')\n",
    "\n",
    "svr.text(x = -0.02, y = -.03,\n",
    "    s = 'dribbleanalytics.blogspot.com                     ',\n",
    "    fontsize = 14, fontname = 'Rockwell', color = 'grey', horizontalalignment='left')\n",
    "\n",
    "svr.savefig('svr.png', dpi = 400, bbox_inches = 'tight')"
   ]
  },
  {
   "cell_type": "markdown",
   "metadata": {},
   "source": [
    "## RF"
   ]
  },
  {
   "cell_type": "code",
   "execution_count": null,
   "metadata": {},
   "outputs": [],
   "source": [
    "rfPredict = rf.predict(dfCurrentPredict)\n",
    "rfPredict = rfPredict.tolist()\n",
    "\n",
    "for (i, j) in zip(dfCurrentNames, rfPredict):\n",
    "    print(i, j)"
   ]
  },
  {
   "cell_type": "code",
   "execution_count": null,
   "metadata": {},
   "outputs": [],
   "source": [
    "rfListUnsorted = [[i, j] for i, j in zip(dfCurrentNames, rfPredict)]\n",
    "rfDataUnsorted = [row[1] for row in rfListUnsorted]\n",
    "rfList = sorted(rfListUnsorted, key = itemgetter(1), reverse = True)\n",
    "\n",
    "rfData = [row[1] for row in rfList]\n",
    "rfNames = [row[0] for row in rfList]\n",
    "print(rfList)\n",
    "\n",
    "x_rf = np.arange(len(rfData))"
   ]
  },
  {
   "cell_type": "code",
   "execution_count": null,
   "metadata": {},
   "outputs": [],
   "source": [
    "plt.style.use('fivethirtyeight')\n",
    "\n",
    "rf, ax = plt.subplots()\n",
    "\n",
    "ax.bar(x_rf, rfData, width = .7, edgecolor = 'white', color = 'skyblue', linewidth = 4, label = 'Predicted')\n",
    "\n",
    "labels = rfNames\n",
    "\n",
    "rects = ax.patches\n",
    "for rect, label in zip(rects, labels):\n",
    "    if rect.get_x() > 8:\n",
    "        ax.text(rect.get_x() + rect.get_width() / 1.75, rect.get_height() + .02, label,\n",
    "        ha='center', va='bottom', rotation = 'vertical', color = 'black')\n",
    "    elif rect.get_x() <= 8:\n",
    "        height = .03\n",
    "        ax.text(rect.get_x() + rect.get_width() / 1.75, height, label,\n",
    "        ha='center', va='bottom', rotation = 'vertical', color = 'black')\n",
    "        \n",
    "rf.suptitle(\"RF predicted MVP share\", weight = 'bold', size = 18, y = 1.005)\n",
    "ax.set_title(\"NBA.com MVP ladder rank listed in parentheses\", size = 14, fontname = 'Rockwell')\n",
    "ax.xaxis.set_visible(False)\n",
    "ax.set_ylabel(\"Vote Share\")\n",
    "\n",
    "rf.text(x = -0.02, y = 0.03,\n",
    "    s = '_______________________________________________________________',\n",
    "    fontsize = 14, color = 'grey', horizontalalignment='left')\n",
    "\n",
    "rf.text(x = -0.02, y = -.03,\n",
    "    s = 'dribbleanalytics.blogspot.com                     ',\n",
    "    fontsize = 14, fontname = 'Rockwell', color = 'grey', horizontalalignment='left')\n",
    "\n",
    "rf.savefig('rf.png', dpi = 400, bbox_inches = 'tight')"
   ]
  },
  {
   "cell_type": "markdown",
   "metadata": {},
   "source": [
    "## k-NN"
   ]
  },
  {
   "cell_type": "code",
   "execution_count": null,
   "metadata": {},
   "outputs": [],
   "source": [
    "knnPredict = knn.predict(dfCurrentPredict)\n",
    "knnPredict = knnPredict.tolist()\n",
    "\n",
    "for (i, j) in zip(dfCurrentNames, knnPredict):\n",
    "    print(i, j)"
   ]
  },
  {
   "cell_type": "code",
   "execution_count": null,
   "metadata": {},
   "outputs": [],
   "source": [
    "knnListUnsorted = [[i, j] for i, j in zip(dfCurrentNames, knnPredict)]\n",
    "knnDataUnsorted = [row[1] for row in knnListUnsorted]\n",
    "knnList = sorted(knnListUnsorted, key = itemgetter(1), reverse = True)\n",
    "\n",
    "knnData = [row[1] for row in knnList]\n",
    "knnNames = [row[0] for row in knnList]\n",
    "print(knnList)\n",
    "\n",
    "x_knn = np.arange(len(knnData))"
   ]
  },
  {
   "cell_type": "code",
   "execution_count": null,
   "metadata": {},
   "outputs": [],
   "source": [
    "plt.style.use('fivethirtyeight')\n",
    "\n",
    "knn, ax = plt.subplots()\n",
    "\n",
    "ax.bar(x_knn, knnData, width = .7, edgecolor = 'white', color = 'skyblue', linewidth = 4, label = 'Predicted')\n",
    "\n",
    "labels = knnNames\n",
    "\n",
    "rects = ax.patches\n",
    "for rect, label in zip(rects, labels):\n",
    "    if rect.get_x() > 6:\n",
    "        ax.text(rect.get_x() + rect.get_width() / 1.75, rect.get_height() + .02, label,\n",
    "        ha='center', va='bottom', rotation = 'vertical', color = 'black')\n",
    "    elif rect.get_x() <= 6:\n",
    "        height = .03\n",
    "        ax.text(rect.get_x() + rect.get_width() / 1.75, height, label,\n",
    "        ha='center', va='bottom', rotation = 'vertical', color = 'black')\n",
    "        \n",
    "knn.suptitle(\"KNN predicted MVP share\", weight = 'bold', size = 18, y = 1.005)\n",
    "ax.set_title(\"NBA.com MVP ladder rank listed in parentheses\", size = 14, fontname = 'Rockwell')\n",
    "ax.xaxis.set_visible(False)\n",
    "ax.set_ylabel(\"Vote Share\")\n",
    "\n",
    "knn.text(x = -0.02, y = 0.03,\n",
    "    s = '_______________________________________________________________',\n",
    "    fontsize = 14, color = 'grey', horizontalalignment='left')\n",
    "\n",
    "knn.text(x = -0.02, y = -.03,\n",
    "    s = 'dribbleanalytics.blogspot.com                     ',\n",
    "    fontsize = 14, fontname = 'Rockwell', color = 'grey', horizontalalignment='left')\n",
    "\n",
    "knn.savefig('knn.png', dpi = 400, bbox_inches = 'tight')"
   ]
  },
  {
   "cell_type": "markdown",
   "metadata": {},
   "source": [
    "## DNN"
   ]
  },
  {
   "cell_type": "code",
   "execution_count": null,
   "metadata": {},
   "outputs": [],
   "source": [
    "dnnPredict = dnn.predict(dfCurrentPredict)\n",
    "dnnPredict = dnnPredict.tolist()\n",
    "\n",
    "for (i, j) in zip(dfCurrentNames, dnnPredict):\n",
    "    print(i, j)"
   ]
  },
  {
   "cell_type": "code",
   "execution_count": null,
   "metadata": {},
   "outputs": [],
   "source": [
    "dnnListUnsorted = [[i, j] for i, j in zip(dfCurrentNames, dnnPredict)]\n",
    "dnnDataUnsorted = [row[1] for row in dnnListUnsorted]\n",
    "dnnList = sorted(dnnListUnsorted, key = itemgetter(1), reverse = True)\n",
    "\n",
    "dnnData = [row[1] for row in dnnList]\n",
    "dnnNames = [row[0] for row in dnnList]\n",
    "print(dnnList)\n",
    "\n",
    "x_dnn = np.arange(len(dnnData))"
   ]
  },
  {
   "cell_type": "code",
   "execution_count": null,
   "metadata": {},
   "outputs": [],
   "source": [
    "plt.style.use('fivethirtyeight')\n",
    "\n",
    "dnn, ax = plt.subplots()\n",
    "\n",
    "ax.bar(x_dnn, dnnData, width = .7, edgecolor = 'white', color = 'skyblue', linewidth = 4, label = 'Predicted')\n",
    "\n",
    "labels = dnnNames\n",
    "\n",
    "rects = ax.patches\n",
    "for rect, label in zip(rects, labels):\n",
    "    if rect.get_x() > 8:\n",
    "        ax.text(rect.get_x() + rect.get_width() / 1.75, rect.get_height() + .02, label,\n",
    "        ha='center', va='bottom', rotation = 'vertical', color = 'black')\n",
    "    elif rect.get_x() <= 8:\n",
    "        height = .03\n",
    "        ax.text(rect.get_x() + rect.get_width() / 1.75, height, label,\n",
    "        ha='center', va='bottom', rotation = 'vertical', color = 'black')\n",
    "        \n",
    "dnn.suptitle(\"DNN predicted MVP share\", weight = 'bold', size = 18, y = 1.005)\n",
    "ax.set_title(\"NBA.com MVP ladder rank listed in parentheses\", size = 14, fontname = 'Rockwell')\n",
    "ax.xaxis.set_visible(False)\n",
    "ax.set_ylabel(\"Vote Share\")\n",
    "\n",
    "dnn.text(x = -0.02, y = 0.03,\n",
    "    s = '_______________________________________________________________',\n",
    "    fontsize = 14, color = 'grey', horizontalalignment='left')\n",
    "\n",
    "dnn.text(x = -0.02, y = -.03,\n",
    "    s = 'dribbleanalytics.blogspot.com                     ',\n",
    "    fontsize = 14, fontname = 'Rockwell', color = 'grey', horizontalalignment='left')\n",
    "\n",
    "dnn.savefig('dnn.png', dpi = 400, bbox_inches = 'tight')"
   ]
  },
  {
   "cell_type": "markdown",
   "metadata": {},
   "source": [
    "## Average"
   ]
  },
  {
   "cell_type": "code",
   "execution_count": null,
   "metadata": {},
   "outputs": [],
   "source": [
    "avgPredict = []\n",
    "\n",
    "for (i, j, h, k) in zip(svrDataUnsorted, rfDataUnsorted, knnDataUnsorted, dnnDataUnsorted):\n",
    "    avgPredict.append((i + j + h + k) / 4)\n",
    "\n",
    "avgList = [[i, j] for i, j in zip(dfCurrentNames, avgPredict)]\n",
    "avgList = sorted(avgList, key = itemgetter(1), reverse = True)\n",
    "\n",
    "avgData = [row[1] for row in avgList]\n",
    "avgNames = [row[0] for row in avgList]\n",
    "print(avgList)\n",
    "\n",
    "x_avg = np.arange(len(avgData))"
   ]
  },
  {
   "cell_type": "code",
   "execution_count": null,
   "metadata": {},
   "outputs": [],
   "source": [
    "plt.style.use('fivethirtyeight')\n",
    "\n",
    "avg, ax = plt.subplots()\n",
    "\n",
    "ax.bar(x_avg, avgData, width = .7, edgecolor = 'white', color = 'skyblue', linewidth = 4, label = 'Predicted')\n",
    "\n",
    "labels = avgNames\n",
    "\n",
    "rects = ax.patches\n",
    "for rect, label in zip(rects, labels):\n",
    "    if rect.get_x() > 8:\n",
    "        ax.text(rect.get_x() + rect.get_width() / 1.75, rect.get_height() + .02, label,\n",
    "        ha='center', va='bottom', rotation = 'vertical', color = 'black')\n",
    "    elif rect.get_x() <= 8:\n",
    "        height = .03\n",
    "        ax.text(rect.get_x() + rect.get_width() / 1.75, height, label,\n",
    "        ha='center', va='bottom', rotation = 'vertical', color = 'black')\n",
    "        \n",
    "avg.suptitle(\"Average predicted MVP share\", weight = 'bold', size = 18, y = 1.005)\n",
    "ax.set_title(\"NBA.com MVP ladder rank listed in parentheses\", size = 14, fontname = 'Rockwell')\n",
    "ax.xaxis.set_visible(False)\n",
    "ax.set_ylabel(\"Vote Share\")\n",
    "\n",
    "avg.text(x = -0.02, y = 0.03,\n",
    "    s = '_______________________________________________________________',\n",
    "    fontsize = 14, color = 'grey', horizontalalignment='left')\n",
    "\n",
    "avg.text(x = -0.02, y = -.03,\n",
    "    s = 'dribbleanalytics.blogspot.com                     ',\n",
    "    fontsize = 14, fontname = 'Rockwell', color = 'grey', horizontalalignment='left')\n",
    "\n",
    "avg.savefig('avg.png', dpi = 400, bbox_inches = 'tight')"
   ]
  }
 ],
 "metadata": {
  "kernelspec": {
   "display_name": "Python 3",
   "language": "python",
   "name": "python3"
  },
  "language_info": {
   "codemirror_mode": {
    "name": "ipython",
    "version": 3
   },
   "file_extension": ".py",
   "mimetype": "text/x-python",
   "name": "python",
   "nbconvert_exporter": "python",
   "pygments_lexer": "ipython3",
   "version": "3.6.4"
  }
 },
 "nbformat": 4,
 "nbformat_minor": 2
}
